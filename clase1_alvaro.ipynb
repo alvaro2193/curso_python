{
 "cells": [
  {
   "cell_type": "code",
   "execution_count": 1,
   "metadata": {},
   "outputs": [
    {
     "name": "stdout",
     "output_type": "stream",
     "text": [
      "ingrese un numero30\n",
      "30ingrese otro numero\n"
     ]
    }
   ],
   "source": []
  },
  {
   "cell_type": "code",
   "execution_count": 2,
   "metadata": {},
   "outputs": [
    {
     "name": "stdout",
     "output_type": "stream",
     "text": [
      "ingrese un numero10\n",
      "ingrese otro numero20\n",
      "1020\n"
     ]
    }
   ],
   "source": [
    "numero_uno = input (\"ingrese un numero\")\n",
    "numero_dos = input (\"ingrese otro numero\")\n",
    "suma = numero_uno + numero_dos\n",
    "print (suma) "
   ]
  },
  {
   "cell_type": "code",
   "execution_count": 3,
   "metadata": {},
   "outputs": [
    {
     "ename": "SyntaxError",
     "evalue": "invalid syntax (<ipython-input-3-edc11454af7e>, line 1)",
     "output_type": "error",
     "traceback": [
      "\u001b[0;36m  File \u001b[0;32m\"<ipython-input-3-edc11454af7e>\"\u001b[0;36m, line \u001b[0;32m1\u001b[0m\n\u001b[0;31m    int numero_uno = input (\"ingrese un numero: \")\u001b[0m\n\u001b[0m                 ^\u001b[0m\n\u001b[0;31mSyntaxError\u001b[0m\u001b[0;31m:\u001b[0m invalid syntax\n"
     ]
    }
   ],
   "source": [
    "int numero_uno = input (\"ingrese un numero: \")\n",
    "int numero_dos = input (\"ingrese otro numero: \")\n",
    "suma = numero_uno + numero_dos\n",
    "print (suma)"
   ]
  },
  {
   "cell_type": "code",
   "execution_count": 4,
   "metadata": {},
   "outputs": [
    {
     "name": "stdout",
     "output_type": "stream",
     "text": [
      "ingrese un numero2\n",
      "ingrese otro numero2\n",
      "4.0\n"
     ]
    }
   ],
   "source": [
    "numero_uno = float ( input (\"ingrese un numero\"))\n",
    "numero_dos = float ( input (\"ingrese otro numero\"))\n",
    "suma = numero_uno + numero_dos\n",
    "print (suma)"
   ]
  },
  {
   "cell_type": "code",
   "execution_count": 5,
   "metadata": {},
   "outputs": [
    {
     "name": "stdout",
     "output_type": "stream",
     "text": [
      "ingrese un numero2\n",
      "ingrese otro numero1\n"
     ]
    },
    {
     "ename": "TypeError",
     "evalue": "Can't convert 'float' object to str implicitly",
     "output_type": "error",
     "traceback": [
      "\u001b[0;31m---------------------------------------------------------------------------\u001b[0m",
      "\u001b[0;31mTypeError\u001b[0m                                 Traceback (most recent call last)",
      "\u001b[0;32m<ipython-input-5-56dec0f5c345>\u001b[0m in \u001b[0;36m<module>\u001b[0;34m\u001b[0m\n\u001b[1;32m      2\u001b[0m \u001b[0mnumero_dos\u001b[0m \u001b[0;34m=\u001b[0m \u001b[0mfloat\u001b[0m \u001b[0;34m(\u001b[0m \u001b[0minput\u001b[0m \u001b[0;34m(\u001b[0m\u001b[0;34m\"ingrese otro numero\"\u001b[0m\u001b[0;34m)\u001b[0m\u001b[0;34m)\u001b[0m\u001b[0;34m\u001b[0m\u001b[0m\n\u001b[1;32m      3\u001b[0m \u001b[0msuma\u001b[0m \u001b[0;34m=\u001b[0m \u001b[0mnumero_uno\u001b[0m \u001b[0;34m+\u001b[0m \u001b[0mnumero_dos\u001b[0m\u001b[0;34m\u001b[0m\u001b[0m\n\u001b[0;32m----> 4\u001b[0;31m \u001b[0mprint\u001b[0m \u001b[0;34m(\u001b[0m\u001b[0;34m\"la suma de los numeros es: \"\u001b[0m \u001b[0;34m+\u001b[0m \u001b[0msuma\u001b[0m\u001b[0;34m)\u001b[0m\u001b[0;34m\u001b[0m\u001b[0m\n\u001b[0m",
      "\u001b[0;31mTypeError\u001b[0m: Can't convert 'float' object to str implicitly"
     ]
    }
   ],
   "source": [
    "numero_uno = float ( input (\"ingrese un numero\"))\n",
    "numero_dos = float ( input (\"ingrese otro numero\"))\n",
    "suma = numero_uno + numero_dos\n",
    "print (\"la suma de los numeros es: \" + suma)"
   ]
  },
  {
   "cell_type": "code",
   "execution_count": 6,
   "metadata": {},
   "outputs": [
    {
     "ename": "SyntaxError",
     "evalue": "invalid syntax (<ipython-input-6-0f119e34cfc2>, line 4)",
     "output_type": "error",
     "traceback": [
      "\u001b[0;36m  File \u001b[0;32m\"<ipython-input-6-0f119e34cfc2>\"\u001b[0;36m, line \u001b[0;32m4\u001b[0m\n\u001b[0;31m    print (\"la suma de los numeros es: \" suma)\u001b[0m\n\u001b[0m                                            ^\u001b[0m\n\u001b[0;31mSyntaxError\u001b[0m\u001b[0;31m:\u001b[0m invalid syntax\n"
     ]
    }
   ],
   "source": [
    "numero_uno = float ( input (\"ingrese un numero\"))\n",
    "numero_dos = float ( input (\"ingrese otro numero\"))\n",
    "suma = numero_uno + numero_dos\n",
    "print (\"la suma de los numeros es: \" suma)"
   ]
  },
  {
   "cell_type": "code",
   "execution_count": 8,
   "metadata": {},
   "outputs": [
    {
     "name": "stdout",
     "output_type": "stream",
     "text": [
      "ingrese primer numero10\n",
      "ingrese segundo numero20\n",
      "ingrese tercer numero10\n",
      "40.0\n"
     ]
    }
   ],
   "source": [
    "numero_uno = float ( input (\"ingrese primer numero\"))\n",
    "numero_dos = float ( input (\"ingrese segundo numero\"))\n",
    "numero_tres = float ( input (\"ingrese tercer numero\"))\n",
    "\n",
    "suma = numero_uno + numero_dos + numero_tres \n",
    "print (suma)"
   ]
  },
  {
   "cell_type": "code",
   "execution_count": 15,
   "metadata": {},
   "outputs": [
    {
     "name": "stdout",
     "output_type": "stream",
     "text": [
      "ingrese primer numeroa\n"
     ]
    },
    {
     "ename": "ValueError",
     "evalue": "could not convert string to float: 'a'",
     "output_type": "error",
     "traceback": [
      "\u001b[0;31m---------------------------------------------------------------------------\u001b[0m",
      "\u001b[0;31mValueError\u001b[0m                                Traceback (most recent call last)",
      "\u001b[0;32m<ipython-input-15-f50584f55bd1>\u001b[0m in \u001b[0;36m<module>\u001b[0;34m\u001b[0m\n\u001b[0;32m----> 1\u001b[0;31m \u001b[0mnumero_uno\u001b[0m \u001b[0;34m=\u001b[0m \u001b[0mfloat\u001b[0m \u001b[0;34m(\u001b[0m \u001b[0minput\u001b[0m \u001b[0;34m(\u001b[0m\u001b[0;34m\"ingrese primer numero\"\u001b[0m\u001b[0;34m)\u001b[0m\u001b[0;34m)\u001b[0m\u001b[0;34m\u001b[0m\u001b[0m\n\u001b[0m\u001b[1;32m      2\u001b[0m \u001b[0mnumero_dos\u001b[0m \u001b[0;34m=\u001b[0m \u001b[0mfloat\u001b[0m \u001b[0;34m(\u001b[0m \u001b[0minput\u001b[0m \u001b[0;34m(\u001b[0m\u001b[0;34m\"ingrese segundo numero\"\u001b[0m\u001b[0;34m)\u001b[0m\u001b[0;34m)\u001b[0m\u001b[0;34m\u001b[0m\u001b[0m\n\u001b[1;32m      3\u001b[0m \u001b[0mnumero_tres\u001b[0m \u001b[0;34m=\u001b[0m \u001b[0mfloat\u001b[0m \u001b[0;34m(\u001b[0m \u001b[0minput\u001b[0m \u001b[0;34m(\u001b[0m\u001b[0;34m\"ingrese tercer numero\"\u001b[0m\u001b[0;34m)\u001b[0m\u001b[0;34m)\u001b[0m\u001b[0;34m\u001b[0m\u001b[0m\n\u001b[1;32m      4\u001b[0m \u001b[0mnumero_cuatro\u001b[0m \u001b[0;34m=\u001b[0m \u001b[0mfloat\u001b[0m \u001b[0;34m(\u001b[0m \u001b[0minput\u001b[0m \u001b[0;34m(\u001b[0m\u001b[0;34m\"ingrese cuarto numero\"\u001b[0m\u001b[0;34m)\u001b[0m\u001b[0;34m)\u001b[0m\u001b[0;34m\u001b[0m\u001b[0m\n\u001b[1;32m      5\u001b[0m \u001b[0mresta\u001b[0m \u001b[0;34m=\u001b[0m \u001b[0mnumero_uno\u001b[0m \u001b[0;34m-\u001b[0m \u001b[0mnumero_dos\u001b[0m \u001b[0;34m-\u001b[0m \u001b[0mnumero_tres\u001b[0m \u001b[0;34m-\u001b[0m \u001b[0mnumero_cuatro\u001b[0m\u001b[0;34m\u001b[0m\u001b[0m\n",
      "\u001b[0;31mValueError\u001b[0m: could not convert string to float: 'a'"
     ]
    }
   ],
   "source": [
    "numero_uno = float ( input (\"ingrese primer numero\"))\n",
    "numero_dos = float ( input (\"ingrese segundo numero\"))\n",
    "numero_tres = float ( input (\"ingrese tercer numero\"))\n",
    "numero_cuatro = float ( input (\"ingrese cuarto numero\"))\n",
    "resta = numero_uno - numero_dos - numero_tres - numero_cuatro \n",
    "print (\"su resultado es:\" + resta)"
   ]
  },
  {
   "cell_type": "code",
   "execution_count": 16,
   "metadata": {},
   "outputs": [
    {
     "name": "stdout",
     "output_type": "stream",
     "text": [
      "ingrese primer numero10\n",
      "ingrese segundo numero2\n",
      "ingrese tercer numero2\n",
      "ingrese cuarto numero2\n",
      "su resultado es: 4.0\n"
     ]
    }
   ],
   "source": [
    "numero_uno = float ( input (\"ingrese primer numero\"))\n",
    "numero_dos = float ( input (\"ingrese segundo numero\"))\n",
    "numero_tres = float ( input (\"ingrese tercer numero\"))\n",
    "numero_cuatro = float ( input (\"ingrese cuarto numero\"))\n",
    "resta = numero_uno - numero_dos - numero_tres - numero_cuatro \n",
    "print (\"su resultado es:\" , resta)"
   ]
  },
  {
   "cell_type": "code",
   "execution_count": 21,
   "metadata": {},
   "outputs": [
    {
     "name": "stdout",
     "output_type": "stream",
     "text": [
      "ingrese primer numero10\n",
      "ingrese segundo numero2\n",
      "ingrese tercer numero2\n",
      "ingrese cuarto numero2\n",
      "su resultado es: 4.0\n"
     ]
    }
   ],
   "source": [
    "while True:\n",
    "    try:\n",
    "        numero_uno = float ( input (\"ingrese primer numero \"))\n",
    "        numero_dos = float ( input (\"ingrese segundo numero \"))\n",
    "        numero_tres = float ( input (\"ingrese tercer numero \"))\n",
    "        numero_cuatro = float ( input (\"ingrese cuarto numero \"))\n",
    "        resta = numero_uno - numero_dos - numero_tres - numero_cuatro \n",
    "        print (\"su resultado es:\" , resta)\n",
    "        break\n",
    "    except ValueError:\n",
    "        print (\"oops! ingrese un numero\")"
   ]
  },
  {
   "cell_type": "code",
   "execution_count": 23,
   "metadata": {},
   "outputs": [
    {
     "name": "stdout",
     "output_type": "stream",
     "text": [
      "ingrese un numero a\n"
     ]
    },
    {
     "ename": "ValueError",
     "evalue": "could not convert string to float: 'a'",
     "output_type": "error",
     "traceback": [
      "\u001b[0;31m---------------------------------------------------------------------------\u001b[0m",
      "\u001b[0;31mValueError\u001b[0m                                Traceback (most recent call last)",
      "\u001b[0;32m<ipython-input-23-9704f99d8fbd>\u001b[0m in \u001b[0;36m<module>\u001b[0;34m\u001b[0m\n\u001b[0;32m----> 1\u001b[0;31m \u001b[0mx\u001b[0m \u001b[0;34m=\u001b[0m \u001b[0mfloat\u001b[0m \u001b[0;34m(\u001b[0m\u001b[0minput\u001b[0m\u001b[0;34m(\u001b[0m\u001b[0;34m\"ingrese un numero \"\u001b[0m\u001b[0;34m)\u001b[0m\u001b[0;34m)\u001b[0m\u001b[0;34m\u001b[0m\u001b[0m\n\u001b[0m\u001b[1;32m      2\u001b[0m \u001b[0;32mif\u001b[0m \u001b[0mx\u001b[0m \u001b[0;34m>\u001b[0m \u001b[0;36m0\u001b[0m\u001b[0;34m:\u001b[0m\u001b[0;34m\u001b[0m\u001b[0m\n\u001b[1;32m      3\u001b[0m     \u001b[0mprint\u001b[0m \u001b[0;34m(\u001b[0m\u001b[0;34m\"su numero es mayor a 0\"\u001b[0m\u001b[0;34m)\u001b[0m\u001b[0;34m\u001b[0m\u001b[0m\n",
      "\u001b[0;31mValueError\u001b[0m: could not convert string to float: 'a'"
     ]
    }
   ],
   "source": [
    "x = float (input(\"ingrese un numero \"))\n",
    "if x > 0:\n",
    "    print (\"su numero es mayor a 0\")"
   ]
  },
  {
   "cell_type": "code",
   "execution_count": 47,
   "metadata": {},
   "outputs": [
    {
     "name": "stdout",
     "output_type": "stream",
     "text": [
      "ingrese nombre acr\n",
      "ingrese salario 400\n",
      "acr paga de impuestos 40.0\n"
     ]
    }
   ],
   "source": [
    "nombre =  input(\"ingrese nombre \")\n",
    "salario = float (input(\"ingrese salario \"))\n",
    "\n",
    "if salario<200:\n",
    "    \n",
    "    print (nombre , \"no paga impuestos \" )\n",
    "\n",
    "elif  200<=salario and salario<400:\n",
    "    porcentaje = salario*0.05\n",
    "    print (nombre , \"paga impuestos: \", porcentaje)\n",
    "\n",
    "elif 400<=salario and salario<600:\n",
    "    porcentaje = salario*0.10\n",
    "    print (nombre , \"paga de impuestos\" , porcentaje)\n",
    "\n",
    "elif salario>=600:\n",
    "    porcentaje = salario*0.15\n",
    "    print (nombre , \"paga de impuestos\" , porcentaje) \n"
   ]
  },
  {
   "cell_type": "code",
   "execution_count": null,
   "metadata": {},
   "outputs": [],
   "source": []
  }
 ],
 "metadata": {
  "kernelspec": {
   "display_name": "Python 3",
   "language": "python",
   "name": "python3"
  },
  "language_info": {
   "codemirror_mode": {
    "name": "ipython",
    "version": 3
   },
   "file_extension": ".py",
   "mimetype": "text/x-python",
   "name": "python",
   "nbconvert_exporter": "python",
   "pygments_lexer": "ipython3",
   "version": "3.5.2"
  }
 },
 "nbformat": 4,
 "nbformat_minor": 2
}
